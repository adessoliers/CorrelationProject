{
 "cells": [
  {
   "cell_type": "markdown",
   "id": "continuous-final",
   "metadata": {},
   "source": [
    "## Importing Dependencies"
   ]
  },
  {
   "cell_type": "code",
   "execution_count": 1,
   "id": "dense-inflation",
   "metadata": {},
   "outputs": [],
   "source": [
    "# import matplotlib\n",
    "# import matplotlib.pyplot as plt\n",
    "# plt.style.use('ggplot')\n",
    "# from matplotlib.pyplot import figure\n",
    "# %matplotlib inline\n",
    "# matplotlib.rcParams['figure.figsize'] = (12,8)\n",
    "\n",
    "# import seaborn as sns\n",
    "import pandas as pd\n",
    "import numpy as np\n",
    "\n",
    "import warnings\n",
    "warnings.filterwarnings('ignore')"
   ]
  },
  {
   "cell_type": "markdown",
   "id": "increasing-robertson",
   "metadata": {},
   "source": [
    "## Reading in CSV"
   ]
  },
  {
   "cell_type": "code",
   "execution_count": 2,
   "id": "front-preliminary",
   "metadata": {
    "scrolled": true
   },
   "outputs": [
    {
     "data": {
      "text/html": [
       "<div>\n",
       "<style scoped>\n",
       "    .dataframe tbody tr th:only-of-type {\n",
       "        vertical-align: middle;\n",
       "    }\n",
       "\n",
       "    .dataframe tbody tr th {\n",
       "        vertical-align: top;\n",
       "    }\n",
       "\n",
       "    .dataframe thead th {\n",
       "        text-align: right;\n",
       "    }\n",
       "</style>\n",
       "<table border=\"1\" class=\"dataframe\">\n",
       "  <thead>\n",
       "    <tr style=\"text-align: right;\">\n",
       "      <th></th>\n",
       "      <th>name</th>\n",
       "      <th>rating</th>\n",
       "      <th>genre</th>\n",
       "      <th>year</th>\n",
       "      <th>released</th>\n",
       "      <th>score</th>\n",
       "      <th>votes</th>\n",
       "      <th>director</th>\n",
       "      <th>writer</th>\n",
       "      <th>star</th>\n",
       "      <th>country</th>\n",
       "      <th>budget</th>\n",
       "      <th>gross</th>\n",
       "      <th>company</th>\n",
       "      <th>runtime</th>\n",
       "    </tr>\n",
       "  </thead>\n",
       "  <tbody>\n",
       "    <tr>\n",
       "      <th>0</th>\n",
       "      <td>The Shining</td>\n",
       "      <td>R</td>\n",
       "      <td>Drama</td>\n",
       "      <td>1980</td>\n",
       "      <td>June 13, 1980 (United States)</td>\n",
       "      <td>8.4</td>\n",
       "      <td>927000.0</td>\n",
       "      <td>Stanley Kubrick</td>\n",
       "      <td>Stephen King</td>\n",
       "      <td>Jack Nicholson</td>\n",
       "      <td>United Kingdom</td>\n",
       "      <td>19000000.0</td>\n",
       "      <td>46998772.0</td>\n",
       "      <td>Warner Bros.</td>\n",
       "      <td>146.0</td>\n",
       "    </tr>\n",
       "    <tr>\n",
       "      <th>1</th>\n",
       "      <td>The Blue Lagoon</td>\n",
       "      <td>R</td>\n",
       "      <td>Adventure</td>\n",
       "      <td>1980</td>\n",
       "      <td>July 2, 1980 (United States)</td>\n",
       "      <td>5.8</td>\n",
       "      <td>65000.0</td>\n",
       "      <td>Randal Kleiser</td>\n",
       "      <td>Henry De Vere Stacpoole</td>\n",
       "      <td>Brooke Shields</td>\n",
       "      <td>United States</td>\n",
       "      <td>4500000.0</td>\n",
       "      <td>58853106.0</td>\n",
       "      <td>Columbia Pictures</td>\n",
       "      <td>104.0</td>\n",
       "    </tr>\n",
       "    <tr>\n",
       "      <th>2</th>\n",
       "      <td>Star Wars: Episode V - The Empire Strikes Back</td>\n",
       "      <td>PG</td>\n",
       "      <td>Action</td>\n",
       "      <td>1980</td>\n",
       "      <td>June 20, 1980 (United States)</td>\n",
       "      <td>8.7</td>\n",
       "      <td>1200000.0</td>\n",
       "      <td>Irvin Kershner</td>\n",
       "      <td>Leigh Brackett</td>\n",
       "      <td>Mark Hamill</td>\n",
       "      <td>United States</td>\n",
       "      <td>18000000.0</td>\n",
       "      <td>538375067.0</td>\n",
       "      <td>Lucasfilm</td>\n",
       "      <td>124.0</td>\n",
       "    </tr>\n",
       "    <tr>\n",
       "      <th>3</th>\n",
       "      <td>Airplane!</td>\n",
       "      <td>PG</td>\n",
       "      <td>Comedy</td>\n",
       "      <td>1980</td>\n",
       "      <td>July 2, 1980 (United States)</td>\n",
       "      <td>7.7</td>\n",
       "      <td>221000.0</td>\n",
       "      <td>Jim Abrahams</td>\n",
       "      <td>Jim Abrahams</td>\n",
       "      <td>Robert Hays</td>\n",
       "      <td>United States</td>\n",
       "      <td>3500000.0</td>\n",
       "      <td>83453539.0</td>\n",
       "      <td>Paramount Pictures</td>\n",
       "      <td>88.0</td>\n",
       "    </tr>\n",
       "    <tr>\n",
       "      <th>4</th>\n",
       "      <td>Caddyshack</td>\n",
       "      <td>R</td>\n",
       "      <td>Comedy</td>\n",
       "      <td>1980</td>\n",
       "      <td>July 25, 1980 (United States)</td>\n",
       "      <td>7.3</td>\n",
       "      <td>108000.0</td>\n",
       "      <td>Harold Ramis</td>\n",
       "      <td>Brian Doyle-Murray</td>\n",
       "      <td>Chevy Chase</td>\n",
       "      <td>United States</td>\n",
       "      <td>6000000.0</td>\n",
       "      <td>39846344.0</td>\n",
       "      <td>Orion Pictures</td>\n",
       "      <td>98.0</td>\n",
       "    </tr>\n",
       "    <tr>\n",
       "      <th>...</th>\n",
       "      <td>...</td>\n",
       "      <td>...</td>\n",
       "      <td>...</td>\n",
       "      <td>...</td>\n",
       "      <td>...</td>\n",
       "      <td>...</td>\n",
       "      <td>...</td>\n",
       "      <td>...</td>\n",
       "      <td>...</td>\n",
       "      <td>...</td>\n",
       "      <td>...</td>\n",
       "      <td>...</td>\n",
       "      <td>...</td>\n",
       "      <td>...</td>\n",
       "      <td>...</td>\n",
       "    </tr>\n",
       "    <tr>\n",
       "      <th>7663</th>\n",
       "      <td>More to Life</td>\n",
       "      <td>NaN</td>\n",
       "      <td>Drama</td>\n",
       "      <td>2020</td>\n",
       "      <td>October 23, 2020 (United States)</td>\n",
       "      <td>3.1</td>\n",
       "      <td>18.0</td>\n",
       "      <td>Joseph Ebanks</td>\n",
       "      <td>Joseph Ebanks</td>\n",
       "      <td>Shannon Bond</td>\n",
       "      <td>United States</td>\n",
       "      <td>7000.0</td>\n",
       "      <td>NaN</td>\n",
       "      <td>NaN</td>\n",
       "      <td>90.0</td>\n",
       "    </tr>\n",
       "    <tr>\n",
       "      <th>7664</th>\n",
       "      <td>Dream Round</td>\n",
       "      <td>NaN</td>\n",
       "      <td>Comedy</td>\n",
       "      <td>2020</td>\n",
       "      <td>February 7, 2020 (United States)</td>\n",
       "      <td>4.7</td>\n",
       "      <td>36.0</td>\n",
       "      <td>Dusty Dukatz</td>\n",
       "      <td>Lisa Huston</td>\n",
       "      <td>Michael Saquella</td>\n",
       "      <td>United States</td>\n",
       "      <td>NaN</td>\n",
       "      <td>NaN</td>\n",
       "      <td>Cactus Blue Entertainment</td>\n",
       "      <td>90.0</td>\n",
       "    </tr>\n",
       "    <tr>\n",
       "      <th>7665</th>\n",
       "      <td>Saving Mbango</td>\n",
       "      <td>NaN</td>\n",
       "      <td>Drama</td>\n",
       "      <td>2020</td>\n",
       "      <td>April 27, 2020 (Cameroon)</td>\n",
       "      <td>5.7</td>\n",
       "      <td>29.0</td>\n",
       "      <td>Nkanya Nkwai</td>\n",
       "      <td>Lynno Lovert</td>\n",
       "      <td>Onyama Laura</td>\n",
       "      <td>United States</td>\n",
       "      <td>58750.0</td>\n",
       "      <td>NaN</td>\n",
       "      <td>Embi Productions</td>\n",
       "      <td>NaN</td>\n",
       "    </tr>\n",
       "    <tr>\n",
       "      <th>7666</th>\n",
       "      <td>It's Just Us</td>\n",
       "      <td>NaN</td>\n",
       "      <td>Drama</td>\n",
       "      <td>2020</td>\n",
       "      <td>October 1, 2020 (United States)</td>\n",
       "      <td>NaN</td>\n",
       "      <td>NaN</td>\n",
       "      <td>James Randall</td>\n",
       "      <td>James Randall</td>\n",
       "      <td>Christina Roz</td>\n",
       "      <td>United States</td>\n",
       "      <td>15000.0</td>\n",
       "      <td>NaN</td>\n",
       "      <td>NaN</td>\n",
       "      <td>120.0</td>\n",
       "    </tr>\n",
       "    <tr>\n",
       "      <th>7667</th>\n",
       "      <td>Tee em el</td>\n",
       "      <td>NaN</td>\n",
       "      <td>Horror</td>\n",
       "      <td>2020</td>\n",
       "      <td>August 19, 2020 (United States)</td>\n",
       "      <td>5.7</td>\n",
       "      <td>7.0</td>\n",
       "      <td>Pereko Mosia</td>\n",
       "      <td>Pereko Mosia</td>\n",
       "      <td>Siyabonga Mabaso</td>\n",
       "      <td>South Africa</td>\n",
       "      <td>NaN</td>\n",
       "      <td>NaN</td>\n",
       "      <td>PK 65 Films</td>\n",
       "      <td>102.0</td>\n",
       "    </tr>\n",
       "  </tbody>\n",
       "</table>\n",
       "<p>7668 rows × 15 columns</p>\n",
       "</div>"
      ],
      "text/plain": [
       "                                                name rating      genre  year  \\\n",
       "0                                        The Shining      R      Drama  1980   \n",
       "1                                    The Blue Lagoon      R  Adventure  1980   \n",
       "2     Star Wars: Episode V - The Empire Strikes Back     PG     Action  1980   \n",
       "3                                          Airplane!     PG     Comedy  1980   \n",
       "4                                         Caddyshack      R     Comedy  1980   \n",
       "...                                              ...    ...        ...   ...   \n",
       "7663                                    More to Life    NaN      Drama  2020   \n",
       "7664                                     Dream Round    NaN     Comedy  2020   \n",
       "7665                                   Saving Mbango    NaN      Drama  2020   \n",
       "7666                                    It's Just Us    NaN      Drama  2020   \n",
       "7667                                       Tee em el    NaN     Horror  2020   \n",
       "\n",
       "                              released  score      votes         director  \\\n",
       "0        June 13, 1980 (United States)    8.4   927000.0  Stanley Kubrick   \n",
       "1         July 2, 1980 (United States)    5.8    65000.0   Randal Kleiser   \n",
       "2        June 20, 1980 (United States)    8.7  1200000.0   Irvin Kershner   \n",
       "3         July 2, 1980 (United States)    7.7   221000.0     Jim Abrahams   \n",
       "4        July 25, 1980 (United States)    7.3   108000.0     Harold Ramis   \n",
       "...                                ...    ...        ...              ...   \n",
       "7663  October 23, 2020 (United States)    3.1       18.0    Joseph Ebanks   \n",
       "7664  February 7, 2020 (United States)    4.7       36.0     Dusty Dukatz   \n",
       "7665         April 27, 2020 (Cameroon)    5.7       29.0     Nkanya Nkwai   \n",
       "7666   October 1, 2020 (United States)    NaN        NaN    James Randall   \n",
       "7667   August 19, 2020 (United States)    5.7        7.0     Pereko Mosia   \n",
       "\n",
       "                       writer              star         country      budget  \\\n",
       "0                Stephen King    Jack Nicholson  United Kingdom  19000000.0   \n",
       "1     Henry De Vere Stacpoole    Brooke Shields   United States   4500000.0   \n",
       "2              Leigh Brackett       Mark Hamill   United States  18000000.0   \n",
       "3                Jim Abrahams       Robert Hays   United States   3500000.0   \n",
       "4          Brian Doyle-Murray       Chevy Chase   United States   6000000.0   \n",
       "...                       ...               ...             ...         ...   \n",
       "7663            Joseph Ebanks      Shannon Bond   United States      7000.0   \n",
       "7664              Lisa Huston  Michael Saquella   United States         NaN   \n",
       "7665             Lynno Lovert      Onyama Laura   United States     58750.0   \n",
       "7666            James Randall     Christina Roz   United States     15000.0   \n",
       "7667             Pereko Mosia  Siyabonga Mabaso    South Africa         NaN   \n",
       "\n",
       "            gross                    company  runtime  \n",
       "0      46998772.0               Warner Bros.    146.0  \n",
       "1      58853106.0          Columbia Pictures    104.0  \n",
       "2     538375067.0                  Lucasfilm    124.0  \n",
       "3      83453539.0         Paramount Pictures     88.0  \n",
       "4      39846344.0             Orion Pictures     98.0  \n",
       "...           ...                        ...      ...  \n",
       "7663          NaN                        NaN     90.0  \n",
       "7664          NaN  Cactus Blue Entertainment     90.0  \n",
       "7665          NaN           Embi Productions      NaN  \n",
       "7666          NaN                        NaN    120.0  \n",
       "7667          NaN                PK 65 Films    102.0  \n",
       "\n",
       "[7668 rows x 15 columns]"
      ]
     },
     "execution_count": 2,
     "metadata": {},
     "output_type": "execute_result"
    }
   ],
   "source": [
    "# Reading in CSV\n",
    "\n",
    "movies_df = pd.read_csv('data/movies.csv')\n",
    "movies_df"
   ]
  },
  {
   "cell_type": "code",
   "execution_count": 3,
   "id": "behavioral-belly",
   "metadata": {},
   "outputs": [
    {
     "data": {
      "text/plain": [
       "Index(['name', 'rating', 'genre', 'year', 'released', 'score', 'votes',\n",
       "       'director', 'writer', 'star', 'country', 'budget', 'gross', 'company',\n",
       "       'runtime'],\n",
       "      dtype='object')"
      ]
     },
     "execution_count": 3,
     "metadata": {},
     "output_type": "execute_result"
    }
   ],
   "source": [
    "movies_df.columns"
   ]
  },
  {
   "cell_type": "markdown",
   "id": "dramatic-albert",
   "metadata": {},
   "source": [
    "## Identifying and amending null values"
   ]
  },
  {
   "cell_type": "code",
   "execution_count": 4,
   "id": "familiar-reference",
   "metadata": {
    "scrolled": true
   },
   "outputs": [
    {
     "name": "stdout",
     "output_type": "stream",
     "text": [
      "name - 0.0%\n",
      "rating - 0.010041731872717789%\n",
      "genre - 0.0%\n",
      "year - 0.0%\n",
      "released - 0.0002608242044861763%\n",
      "score - 0.0003912363067292645%\n",
      "votes - 0.0003912363067292645%\n",
      "director - 0.0%\n",
      "writer - 0.0003912363067292645%\n",
      "star - 0.00013041210224308815%\n",
      "country - 0.0003912363067292645%\n",
      "budget - 0.2831246739697444%\n",
      "gross - 0.02464788732394366%\n",
      "company - 0.002217005738132499%\n",
      "runtime - 0.0005216484089723526%\n"
     ]
    }
   ],
   "source": [
    "# Checking for missing data\n",
    "\n",
    "for col in movies_df.columns:\n",
    "    pct_missing = np.mean(movies_df[col].isnull())\n",
    "    print('{} - {}%'.format(col, pct_missing))"
   ]
  },
  {
   "cell_type": "code",
   "execution_count": 5,
   "id": "contrary-freeze",
   "metadata": {},
   "outputs": [
    {
     "name": "stdout",
     "output_type": "stream",
     "text": [
      "Total Number of null values in the DataFrame: 2473\n",
      "Breakdown of null values by column: name           0\n",
      "rating        77\n",
      "genre          0\n",
      "year           0\n",
      "released       2\n",
      "score          3\n",
      "votes          3\n",
      "director       0\n",
      "writer         3\n",
      "star           1\n",
      "country        3\n",
      "budget      2171\n",
      "gross        189\n",
      "company       17\n",
      "runtime        4\n",
      "dtype: int64\n"
     ]
    }
   ],
   "source": [
    "# Checking all columns with null values in dataFrame\n",
    "\n",
    "print(\"Total Number of null values in the DataFrame: \" + str(movies_df.isnull().sum().sum()))\n",
    "print(\"Breakdown of null values by column: \" + str(movies_df.isnull().sum()))"
   ]
  },
  {
   "cell_type": "code",
   "execution_count": 6,
   "id": "desperate-subject",
   "metadata": {},
   "outputs": [
    {
     "name": "stdout",
     "output_type": "stream",
     "text": [
      "Number of null values in column 'budget': 2171\n",
      "Number of null values in column 'gross': 189\n"
     ]
    }
   ],
   "source": [
    "# Checking null values by a single column\n",
    "\n",
    "print(\"Number of null values in column 'budget': \" + str(movies_df.iloc[:, 11].isnull().sum()))\n",
    "print(\"Number of null values in column 'gross': \" + str(movies_df.iloc[:, 12].isnull().sum()))"
   ]
  },
  {
   "cell_type": "code",
   "execution_count": 7,
   "id": "logical-throat",
   "metadata": {},
   "outputs": [
    {
     "name": "stdout",
     "output_type": "stream",
     "text": [
      "name - 0.0%\n",
      "rating - 0.0%\n",
      "genre - 0.0%\n",
      "year - 0.0%\n",
      "released - 0.0%\n",
      "score - 0.0%\n",
      "votes - 0.0%\n",
      "director - 0.0%\n",
      "writer - 0.0%\n",
      "star - 0.0%\n",
      "country - 0.0%\n",
      "budget - 0.0%\n",
      "gross - 0.0%\n",
      "company - 0.0%\n",
      "runtime - 0.0%\n"
     ]
    }
   ],
   "source": [
    "# Dropping rows with null values\n",
    "\n",
    "movies_df = movies_df.dropna()\n",
    "\n",
    "# Re-checking if NANs dropped\n",
    "\n",
    "for col in movies_df.columns:\n",
    "    pct_missing = np.mean(movies_df[col].isnull())\n",
    "    print('{} - {}%'.format(col, pct_missing))"
   ]
  },
  {
   "cell_type": "markdown",
   "id": "welcome-wiring",
   "metadata": {},
   "source": [
    "## Cleaning and normalizing data"
   ]
  },
  {
   "cell_type": "code",
   "execution_count": 8,
   "id": "vital-ethiopia",
   "metadata": {
    "scrolled": false
   },
   "outputs": [
    {
     "data": {
      "text/plain": [
       "name         object\n",
       "rating       object\n",
       "genre        object\n",
       "year          int64\n",
       "released     object\n",
       "score       float64\n",
       "votes         int64\n",
       "director     object\n",
       "writer       object\n",
       "star         object\n",
       "country      object\n",
       "budget        int64\n",
       "gross         int64\n",
       "company      object\n",
       "runtime       int64\n",
       "dtype: object"
      ]
     },
     "execution_count": 8,
     "metadata": {},
     "output_type": "execute_result"
    }
   ],
   "source": [
    "# Modifying data type to remove decimal place\n",
    "\n",
    "movies_df['budget'] = movies_df['budget'].astype('int64')\n",
    "movies_df['gross'] = movies_df['gross'].astype('int64')\n",
    "movies_df['runtime'] = movies_df['runtime'].astype('int64')\n",
    "movies_df['votes'] = movies_df['votes'].astype('int64')\n",
    "movies_df.dtypes"
   ]
  },
  {
   "cell_type": "code",
   "execution_count": 9,
   "id": "respiratory-powell",
   "metadata": {
    "scrolled": true
   },
   "outputs": [
    {
     "data": {
      "text/html": [
       "<div>\n",
       "<style scoped>\n",
       "    .dataframe tbody tr th:only-of-type {\n",
       "        vertical-align: middle;\n",
       "    }\n",
       "\n",
       "    .dataframe tbody tr th {\n",
       "        vertical-align: top;\n",
       "    }\n",
       "\n",
       "    .dataframe thead th {\n",
       "        text-align: right;\n",
       "    }\n",
       "</style>\n",
       "<table border=\"1\" class=\"dataframe\">\n",
       "  <thead>\n",
       "    <tr style=\"text-align: right;\">\n",
       "      <th></th>\n",
       "      <th>name</th>\n",
       "      <th>rating</th>\n",
       "      <th>genre</th>\n",
       "      <th>year</th>\n",
       "      <th>released</th>\n",
       "      <th>score</th>\n",
       "      <th>votes</th>\n",
       "      <th>director</th>\n",
       "      <th>writer</th>\n",
       "      <th>star</th>\n",
       "      <th>...</th>\n",
       "      <th>budget</th>\n",
       "      <th>gross</th>\n",
       "      <th>company</th>\n",
       "      <th>runtime</th>\n",
       "      <th>0</th>\n",
       "      <th>1</th>\n",
       "      <th>2</th>\n",
       "      <th>3</th>\n",
       "      <th>4</th>\n",
       "      <th>5</th>\n",
       "    </tr>\n",
       "  </thead>\n",
       "  <tbody>\n",
       "    <tr>\n",
       "      <th>0</th>\n",
       "      <td>The Shining</td>\n",
       "      <td>R</td>\n",
       "      <td>Drama</td>\n",
       "      <td>1980</td>\n",
       "      <td>June 13, 1980 (United States)</td>\n",
       "      <td>8.4</td>\n",
       "      <td>927000</td>\n",
       "      <td>Stanley Kubrick</td>\n",
       "      <td>Stephen King</td>\n",
       "      <td>Jack Nicholson</td>\n",
       "      <td>...</td>\n",
       "      <td>19000000</td>\n",
       "      <td>46998772</td>\n",
       "      <td>Warner Bros.</td>\n",
       "      <td>146</td>\n",
       "      <td>June</td>\n",
       "      <td>13,</td>\n",
       "      <td>1980</td>\n",
       "      <td>(United</td>\n",
       "      <td>States)</td>\n",
       "      <td>None</td>\n",
       "    </tr>\n",
       "  </tbody>\n",
       "</table>\n",
       "<p>1 rows × 21 columns</p>\n",
       "</div>"
      ],
      "text/plain": [
       "          name rating  genre  year                       released  score  \\\n",
       "0  The Shining      R  Drama  1980  June 13, 1980 (United States)    8.4   \n",
       "\n",
       "    votes         director        writer            star  ...    budget  \\\n",
       "0  927000  Stanley Kubrick  Stephen King  Jack Nicholson  ...  19000000   \n",
       "\n",
       "      gross       company runtime     0    1     2        3        4     5  \n",
       "0  46998772  Warner Bros.     146  June  13,  1980  (United  States)  None  \n",
       "\n",
       "[1 rows x 21 columns]"
      ]
     },
     "execution_count": 9,
     "metadata": {},
     "output_type": "execute_result"
    }
   ],
   "source": [
    "# Splitting 'released' column after each delimiter\n",
    "# We will be picking apart what we want to keep in 'released'\n",
    "\n",
    "movies_df = movies_df.join(movies_df['released'].str.split(expand=True))\n",
    "movies_df.head(1)"
   ]
  },
  {
   "cell_type": "code",
   "execution_count": 10,
   "id": "sustainable-reflection",
   "metadata": {
    "scrolled": true
   },
   "outputs": [
    {
     "data": {
      "text/plain": [
       "(UnitedStates)     5066\n",
       "(UnitedKingdom)      86\n",
       "(France)             41\n",
       "(Germany)            25\n",
       "(Spain)              14\n",
       "(Australia)          13\n",
       "(Canada)             13\n",
       "(Japan)              11\n",
       "(Italy)              10\n",
       "(SouthKorea)         10\n",
       "(Brazil)              9\n",
       "(Denmark)             9\n",
       "States)               7\n",
       "(Argentina)           7\n",
       "(China)               6\n",
       "(Israel)              6\n",
       "(Netherlands)         6\n",
       "(Russia)              6\n",
       "(Greece)              5\n",
       "(Singapore)           4\n",
       "(SouthAfrica)         4\n",
       "(Iceland)             4\n",
       "(Ireland)             4\n",
       "(HongKong)            4\n",
       "(Norway)              4\n",
       "(Sweden)              3\n",
       "(Mexico)              3\n",
       "(India)               3\n",
       "(Taiwan)              3\n",
       "(Croatia)             2\n",
       "(Philippines)         2\n",
       "(Bulgaria)            2\n",
       "(Portugal)            2\n",
       "(Turkey)              2\n",
       "(Poland)              2\n",
       "(Lebanon)             2\n",
       "(Belgium)             2\n",
       "(Austria)             1\n",
       "(Malaysia)            1\n",
       "(Latvia)              1\n",
       "(Finland)             1\n",
       "(NewZealand)          1\n",
       "(Iran)                1\n",
       "(Hungary)             1\n",
       "(UnitedArab           1\n",
       "(Bahamas)             1\n",
       "(CzechRepublic)       1\n",
       "Kingdom)              1\n",
       "(Thailand)            1\n",
       "(Bahrain)             1\n",
       "Name: Country Released, dtype: int64"
      ]
     },
     "execution_count": 10,
     "metadata": {},
     "output_type": "execute_result"
    }
   ],
   "source": [
    "movies_df[\"Country Released\"] = movies_df[3].combine(movies_df[4], lambda a, b: ((a or \"\") + (b or  \"\")) or None, None)\n",
    "movies_df[\"Country Released\"].value_counts()"
   ]
  },
  {
   "cell_type": "code",
   "execution_count": 11,
   "id": "geographic-concrete",
   "metadata": {},
   "outputs": [],
   "source": [
    "# Combining and cleaning up country names\n",
    "\n",
    "movies_df[\"Country Released\"] = movies_df[\"Country Released\"].replace(\n",
    "    ['States)', 'Kingdom)','(UnitedArab','(SouthKorea)','(SouthAfrica)','(NewZealand)','(CzechRepublic)'],\n",
    "    ['(UnitedStates)','(UnitedKingdom)','(United Arab Emirates)','(South Korea)','(South Africa)','(New Zealand)','(Czech Republic)'])\n",
    "\n"
   ]
  },
  {
   "cell_type": "code",
   "execution_count": 12,
   "id": "exclusive-participant",
   "metadata": {},
   "outputs": [],
   "source": [
    "# This will remove unwanted parenthesis, but keeping text within\n",
    "\n",
    "movies_df[\"Country Released\"] = movies_df[\"Country Released\"].str.extract('.*\\((.*)\\).*')"
   ]
  },
  {
   "cell_type": "code",
   "execution_count": 13,
   "id": "modified-relief",
   "metadata": {
    "scrolled": true
   },
   "outputs": [
    {
     "data": {
      "text/plain": [
       "United States           5073\n",
       "United Kingdom            87\n",
       "France                    41\n",
       "Germany                   25\n",
       "Spain                     14\n",
       "Canada                    13\n",
       "Australia                 13\n",
       "Japan                     11\n",
       "Italy                     10\n",
       "South Korea               10\n",
       "Denmark                    9\n",
       "Brazil                     9\n",
       "Argentina                  7\n",
       "Russia                     6\n",
       "Israel                     6\n",
       "Netherlands                6\n",
       "China                      6\n",
       "Greece                     5\n",
       "Ireland                    4\n",
       "Singapore                  4\n",
       "South Africa               4\n",
       "Hong Kong                  4\n",
       "Iceland                    4\n",
       "Norway                     4\n",
       "Taiwan                     3\n",
       "India                      3\n",
       "Mexico                     3\n",
       "Sweden                     3\n",
       "Turkey                     2\n",
       "Portugal                   2\n",
       "Philippines                2\n",
       "Croatia                    2\n",
       "Poland                     2\n",
       "Lebanon                    2\n",
       "Bulgaria                   2\n",
       "Belgium                    2\n",
       "Bahamas                    1\n",
       "Malaysia                   1\n",
       "Czech Republic             1\n",
       "New Zealand                1\n",
       "Bahrain                    1\n",
       "Finland                    1\n",
       "Hungary                    1\n",
       "Thailand                   1\n",
       "Iran                       1\n",
       "United Arab Emirates       1\n",
       "Latvia                     1\n",
       "Austria                    1\n",
       "Name: Country Released, dtype: int64"
      ]
     },
     "execution_count": 13,
     "metadata": {},
     "output_type": "execute_result"
    }
   ],
   "source": [
    "# Cleaning up country column\n",
    "\n",
    "movies_df[\"Country Released\"] = movies_df[\"Country Released\"].replace(['UnitedStates','UnitedKingdom','HongKong'],\n",
    "                                                                      ['United States','United Kingdom','Hong Kong'])\n",
    "movies_df[\"Country Released\"].value_counts()"
   ]
  },
  {
   "cell_type": "code",
   "execution_count": 14,
   "id": "flexible-period",
   "metadata": {
    "scrolled": true
   },
   "outputs": [
    {
     "data": {
      "text/html": [
       "<div>\n",
       "<style scoped>\n",
       "    .dataframe tbody tr th:only-of-type {\n",
       "        vertical-align: middle;\n",
       "    }\n",
       "\n",
       "    .dataframe tbody tr th {\n",
       "        vertical-align: top;\n",
       "    }\n",
       "\n",
       "    .dataframe thead th {\n",
       "        text-align: right;\n",
       "    }\n",
       "</style>\n",
       "<table border=\"1\" class=\"dataframe\">\n",
       "  <thead>\n",
       "    <tr style=\"text-align: right;\">\n",
       "      <th></th>\n",
       "      <th>Name</th>\n",
       "      <th>Rating</th>\n",
       "      <th>Genre</th>\n",
       "      <th>Score</th>\n",
       "      <th>Votes</th>\n",
       "      <th>Director</th>\n",
       "      <th>Writer</th>\n",
       "      <th>Star</th>\n",
       "      <th>Budget</th>\n",
       "      <th>Gross</th>\n",
       "      <th>Company</th>\n",
       "      <th>Runtime</th>\n",
       "      <th>Year released</th>\n",
       "      <th>Country released</th>\n",
       "    </tr>\n",
       "  </thead>\n",
       "  <tbody>\n",
       "    <tr>\n",
       "      <th>0</th>\n",
       "      <td>The Shining</td>\n",
       "      <td>R</td>\n",
       "      <td>Drama</td>\n",
       "      <td>8.4</td>\n",
       "      <td>927000</td>\n",
       "      <td>Stanley Kubrick</td>\n",
       "      <td>Stephen King</td>\n",
       "      <td>Jack Nicholson</td>\n",
       "      <td>19000000</td>\n",
       "      <td>46998772</td>\n",
       "      <td>Warner Bros.</td>\n",
       "      <td>146</td>\n",
       "      <td>1980</td>\n",
       "      <td>United States</td>\n",
       "    </tr>\n",
       "  </tbody>\n",
       "</table>\n",
       "</div>"
      ],
      "text/plain": [
       "          Name Rating  Genre  Score   Votes         Director        Writer  \\\n",
       "0  The Shining      R  Drama    8.4  927000  Stanley Kubrick  Stephen King   \n",
       "\n",
       "             Star    Budget     Gross       Company  Runtime Year released  \\\n",
       "0  Jack Nicholson  19000000  46998772  Warner Bros.      146          1980   \n",
       "\n",
       "  Country released  \n",
       "0    United States  "
      ]
     },
     "execution_count": 14,
     "metadata": {},
     "output_type": "execute_result"
    }
   ],
   "source": [
    "# Correcting mismatch between 'year' column and 'released' column\n",
    "# Dropping country since we produced a 'country released column'\n",
    "\n",
    "movies_df = movies_df.drop(columns=[0,1,3,4,5,'year','released','country'])\n",
    "movies_df = movies_df.rename(columns={2: 'Year released'})\n",
    "\n",
    "\n",
    "movies_df.columns = movies_df.columns.str.capitalize()\n",
    "movies_df.head(1)"
   ]
  },
  {
   "cell_type": "code",
   "execution_count": 15,
   "id": "altered-juice",
   "metadata": {
    "scrolled": true
   },
   "outputs": [
    {
     "data": {
      "text/plain": [
       "2011           170\n",
       "2002           169\n",
       "2003           168\n",
       "2008           167\n",
       "2009           166\n",
       "2000           166\n",
       "2007           165\n",
       "2015           163\n",
       "2006           162\n",
       "2014           161\n",
       "2013           161\n",
       "2010           161\n",
       "1999           159\n",
       "2001           159\n",
       "2005           159\n",
       "2004           159\n",
       "2016           158\n",
       "2012           158\n",
       "1998           148\n",
       "1997           147\n",
       "2017           146\n",
       "2018           144\n",
       "1996           143\n",
       "1995           138\n",
       "1993           134\n",
       "1994           132\n",
       "1992           124\n",
       "1989           121\n",
       "2019           120\n",
       "1988           118\n",
       "1991           114\n",
       "1990           108\n",
       "1987           103\n",
       "1986            98\n",
       "1985            94\n",
       "1984            88\n",
       "1983            85\n",
       "1982            70\n",
       "1981            54\n",
       "1980            36\n",
       "2020            11\n",
       "(United          8\n",
       "States)          3\n",
       "(Australia)      1\n",
       "Name: Year released, dtype: int64"
      ]
     },
     "execution_count": 15,
     "metadata": {},
     "output_type": "execute_result"
    }
   ],
   "source": [
    "# Rechecking values, but found there are a few discrepancies with 'year released' & 'country released'\n",
    "\n",
    "movies_df['Year released'].value_counts()"
   ]
  },
  {
   "cell_type": "code",
   "execution_count": 16,
   "id": "needed-secret",
   "metadata": {},
   "outputs": [],
   "source": [
    "# movies_df[movies_df['Year released'] == '(United']\n",
    "# movies_df[movies_df['Year released'] == 'States)']\n",
    "# movies_df[movies_df['Year released'] == '(Australia)']"
   ]
  },
  {
   "cell_type": "code",
   "execution_count": 17,
   "id": "alive-entity",
   "metadata": {},
   "outputs": [],
   "source": [
    "# Updating specific cells utilizing '.at' \n",
    "\n",
    "movies_df.at[449,'Year released'] = 1983\n",
    "movies_df.at[467,'Year released'] = 1983\n",
    "movies_df.at[1212,'Year released'] = 1988\n",
    "movies_df.at[1404,'Year released'] = 1988\n",
    "movies_df.at[1819,'Year released'] = 1990\n",
    "movies_df.at[2029,'Year released'] = 1991\n",
    "movies_df.at[2318,'Year released'] = 1993\n",
    "movies_df.at[2319,'Year released'] = 1993\n",
    "movies_df.at[800,'Year released'] = 1985\n",
    "movies_df.at[800,'Country released'] = 'United States'\n",
    "movies_df.at[1173,'Year released'] = 1988\n",
    "movies_df.at[1173,'Country released'] = 'United States'\n",
    "movies_df.at[4187,'Year released'] = 2002\n",
    "movies_df.at[4187,'Country released'] = 'United States'\n",
    "movies_df.at[5833,'Year released'] = 2010\n",
    "movies_df.at[5833,'Country released'] = 'United States'"
   ]
  },
  {
   "cell_type": "code",
   "execution_count": 18,
   "id": "second-teddy",
   "metadata": {
    "scrolled": true
   },
   "outputs": [
    {
     "data": {
      "text/plain": [
       "Name                0\n",
       "Rating              0\n",
       "Genre               0\n",
       "Score               0\n",
       "Votes               0\n",
       "Director            0\n",
       "Writer              0\n",
       "Star                0\n",
       "Budget              0\n",
       "Gross               0\n",
       "Company             0\n",
       "Runtime             0\n",
       "Year released       2\n",
       "Country released    2\n",
       "dtype: int64"
      ]
     },
     "execution_count": 18,
     "metadata": {},
     "output_type": "execute_result"
    }
   ],
   "source": [
    "# Last check to clean up any NULL values\n",
    "\n",
    "movies_df.isnull().sum()"
   ]
  },
  {
   "cell_type": "code",
   "execution_count": 19,
   "id": "foster-scoop",
   "metadata": {},
   "outputs": [
    {
     "data": {
      "text/html": [
       "<div>\n",
       "<style scoped>\n",
       "    .dataframe tbody tr th:only-of-type {\n",
       "        vertical-align: middle;\n",
       "    }\n",
       "\n",
       "    .dataframe tbody tr th {\n",
       "        vertical-align: top;\n",
       "    }\n",
       "\n",
       "    .dataframe thead th {\n",
       "        text-align: right;\n",
       "    }\n",
       "</style>\n",
       "<table border=\"1\" class=\"dataframe\">\n",
       "  <thead>\n",
       "    <tr style=\"text-align: right;\">\n",
       "      <th></th>\n",
       "      <th>Name</th>\n",
       "      <th>Rating</th>\n",
       "      <th>Genre</th>\n",
       "      <th>Score</th>\n",
       "      <th>Votes</th>\n",
       "      <th>Director</th>\n",
       "      <th>Writer</th>\n",
       "      <th>Star</th>\n",
       "      <th>Budget</th>\n",
       "      <th>Gross</th>\n",
       "      <th>Company</th>\n",
       "      <th>Runtime</th>\n",
       "      <th>Year released</th>\n",
       "      <th>Country released</th>\n",
       "    </tr>\n",
       "  </thead>\n",
       "  <tbody>\n",
       "    <tr>\n",
       "      <th>312</th>\n",
       "      <td>Five Days One Summer</td>\n",
       "      <td>PG</td>\n",
       "      <td>Drama</td>\n",
       "      <td>6.1</td>\n",
       "      <td>1000</td>\n",
       "      <td>Fred Zinnemann</td>\n",
       "      <td>Michael Austin</td>\n",
       "      <td>Sean Connery</td>\n",
       "      <td>15000000</td>\n",
       "      <td>199078</td>\n",
       "      <td>Cable and Wireless Finance</td>\n",
       "      <td>108</td>\n",
       "      <td>None</td>\n",
       "      <td>NaN</td>\n",
       "    </tr>\n",
       "    <tr>\n",
       "      <th>2816</th>\n",
       "      <td>The White Balloon</td>\n",
       "      <td>Unrated</td>\n",
       "      <td>Drama</td>\n",
       "      <td>7.7</td>\n",
       "      <td>6900</td>\n",
       "      <td>Jafar Panahi</td>\n",
       "      <td>Abbas Kiarostami</td>\n",
       "      <td>Aida Mohammadkhani</td>\n",
       "      <td>150000</td>\n",
       "      <td>924940</td>\n",
       "      <td>Farabi Cinema Foundation</td>\n",
       "      <td>85</td>\n",
       "      <td>None</td>\n",
       "      <td>NaN</td>\n",
       "    </tr>\n",
       "  </tbody>\n",
       "</table>\n",
       "</div>"
      ],
      "text/plain": [
       "                      Name   Rating  Genre  Score  Votes        Director  \\\n",
       "312   Five Days One Summer       PG  Drama    6.1   1000  Fred Zinnemann   \n",
       "2816     The White Balloon  Unrated  Drama    7.7   6900    Jafar Panahi   \n",
       "\n",
       "                Writer                Star    Budget   Gross  \\\n",
       "312     Michael Austin        Sean Connery  15000000  199078   \n",
       "2816  Abbas Kiarostami  Aida Mohammadkhani    150000  924940   \n",
       "\n",
       "                         Company  Runtime Year released Country released  \n",
       "312   Cable and Wireless Finance      108          None              NaN  \n",
       "2816    Farabi Cinema Foundation       85          None              NaN  "
      ]
     },
     "execution_count": 19,
     "metadata": {},
     "output_type": "execute_result"
    }
   ],
   "source": [
    "# Identifying which rows have NULL value and cleaning it up\n",
    "\n",
    "is_NaN = movies_df.isnull()\n",
    "row_has_NaN = is_NaN.any(axis=1)\n",
    "rows_with_NaN = movies_df[row_has_NaN]\n",
    "rows_with_NaN"
   ]
  },
  {
   "cell_type": "code",
   "execution_count": 20,
   "id": "hidden-luther",
   "metadata": {},
   "outputs": [],
   "source": [
    "movies_df.at[312,'Year released'] = 1982\n",
    "movies_df.at[312,'Country released'] = 'United States'\n",
    "movies_df.at[2816,'Year released'] = 1995\n",
    "movies_df.at[2816,'Country released'] = 'Iran'"
   ]
  },
  {
   "cell_type": "code",
   "execution_count": 21,
   "id": "applied-local",
   "metadata": {},
   "outputs": [
    {
     "data": {
      "text/plain": [
       "0"
      ]
     },
     "execution_count": 21,
     "metadata": {},
     "output_type": "execute_result"
    }
   ],
   "source": [
    "# No more nulls...YES!\n",
    "\n",
    "movies_df.isnull().sum().sum()"
   ]
  },
  {
   "cell_type": "markdown",
   "id": "taken-linux",
   "metadata": {},
   "source": [
    "## Saving Cleaned DataFrame to CSV"
   ]
  },
  {
   "cell_type": "code",
   "execution_count": 22,
   "id": "liable-request",
   "metadata": {},
   "outputs": [],
   "source": [
    "movies_df.to_csv(\"data/movies_df_clean.csv\",index=False)"
   ]
  }
 ],
 "metadata": {
  "kernelspec": {
   "display_name": "Python [conda env:pythondata] *",
   "language": "python",
   "name": "conda-env-pythondata-py"
  },
  "language_info": {
   "codemirror_mode": {
    "name": "ipython",
    "version": 3
   },
   "file_extension": ".py",
   "mimetype": "text/x-python",
   "name": "python",
   "nbconvert_exporter": "python",
   "pygments_lexer": "ipython3",
   "version": "3.6.12"
  }
 },
 "nbformat": 4,
 "nbformat_minor": 5
}
